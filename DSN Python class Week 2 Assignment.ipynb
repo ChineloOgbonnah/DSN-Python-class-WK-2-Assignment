{
 "cells": [
  {
   "cell_type": "code",
   "execution_count": 1,
   "metadata": {},
   "outputs": [
    {
     "name": "stdout",
     "output_type": "stream",
     "text": [
      "1\n",
      "2\n",
      "Multiple of 3\n",
      "4\n",
      "Multiple of 5\n",
      "Multiple of 3\n",
      "7\n",
      "8\n",
      "Multiple of 3\n",
      "Multiple of 5\n",
      "11\n",
      "Multiple of 3\n",
      "13\n",
      "14\n",
      "Multiples of 3 and 5\n",
      "16\n",
      "17\n",
      "Multiple of 3\n",
      "19\n",
      "Multiple of 5\n",
      "Multiple of 3\n",
      "22\n",
      "23\n",
      "Multiple of 3\n",
      "Multiple of 5\n",
      "26\n",
      "Multiple of 3\n",
      "28\n",
      "29\n",
      "Multiples of 3 and 5\n",
      "31\n",
      "32\n",
      "Multiple of 3\n",
      "34\n",
      "Multiple of 5\n",
      "Multiple of 3\n",
      "37\n",
      "38\n",
      "Multiple of 3\n",
      "Multiple of 5\n",
      "41\n",
      "Multiple of 3\n",
      "43\n",
      "44\n",
      "Multiples of 3 and 5\n",
      "46\n",
      "47\n",
      "Multiple of 3\n",
      "49\n",
      "Multiple of 5\n",
      "Multiple of 3\n",
      "52\n",
      "53\n",
      "Multiple of 3\n",
      "Multiple of 5\n",
      "56\n",
      "Multiple of 3\n",
      "58\n",
      "59\n",
      "Multiples of 3 and 5\n",
      "61\n",
      "62\n",
      "Multiple of 3\n",
      "64\n",
      "Multiple of 5\n",
      "Multiple of 3\n",
      "67\n",
      "68\n",
      "Multiple of 3\n",
      "Multiple of 5\n",
      "71\n",
      "Multiple of 3\n",
      "73\n",
      "74\n",
      "Multiples of 3 and 5\n",
      "76\n",
      "77\n",
      "Multiple of 3\n",
      "79\n",
      "Multiple of 5\n",
      "Multiple of 3\n",
      "82\n",
      "83\n",
      "Multiple of 3\n",
      "Multiple of 5\n",
      "86\n",
      "Multiple of 3\n",
      "88\n",
      "89\n",
      "Multiples of 3 and 5\n",
      "91\n",
      "92\n",
      "Multiple of 3\n",
      "94\n",
      "Multiple of 5\n",
      "Multiple of 3\n",
      "97\n",
      "98\n",
      "Multiple of 3\n",
      "Multiple of 5\n"
     ]
    }
   ],
   "source": [
    "\"\"\"Write a program that prints the numbers from 1 to 100. But for multiples of three \n",
    "print 'Multiple of 3' instead of the number and for the multiples of five print 'Multiple of 5'. \n",
    "For numbers which are multiples of both three and five print 'Multiples of 3 and 5'.\"\"\"\n",
    "\n",
    "for x in range(1, 101):\n",
    "    if x%3==0 and x%5==0:\n",
    "        print('Multiples of 3 and 5')\n",
    "    elif x%3==0:\n",
    "        print('Multiple of 3')\n",
    "    elif x%5==0:\n",
    "        print('Multiple of 5')\n",
    "    else:\n",
    "        print(x)"
   ]
  },
  {
   "cell_type": "code",
   "execution_count": 1,
   "metadata": {},
   "outputs": [
    {
     "name": "stdout",
     "output_type": "stream",
     "text": [
      "4950\n"
     ]
    }
   ],
   "source": [
    "#Write a program that prints out the sum of values between 1 and 100.\n",
    "sum = 0\n",
    "for a in range(1, 100):\n",
    "    sum+=a\n",
    "print(sum)\n",
    "    \n"
   ]
  },
  {
   "cell_type": "code",
   "execution_count": 4,
   "metadata": {},
   "outputs": [
    {
     "name": "stdout",
     "output_type": "stream",
     "text": [
      "Enter the unit of the temperature to be converted, i.e Celsius or FahrenheitFahrenheit\n",
      "Enter the temperature to be converted32\n",
      "The temperature in Celsius is 0\n"
     ]
    }
   ],
   "source": [
    "\"\"\"Write a Python program to convert temperatures to and from celsius, fahrenheit. [Formula : c/5 = f-32/9 \n",
    "[ where c = temperature in celsius and f = temperature in fahrenheit]\"\"\"\n",
    "\n",
    "unit = input ('Enter the unit of the temperature to be converted, i.e Celsius or Fahrenheit')\n",
    "temp = int(input('Enter the temperature to be converted'))\n",
    "c = int(((temp)-32)*(5/9))\n",
    "f = int(((temp)*(9/5)+32))\n",
    "\n",
    "if unit =='Celsius':\n",
    "    print('The temperature in Fahrenheit is', f)\n",
    "elif unit == 'Fahrenheit':\n",
    "    print('The temperature in Celsius is', c)\n",
    "else:\n",
    "    print('The unit entered is invalid')"
   ]
  },
  {
   "cell_type": "code",
   "execution_count": null,
   "metadata": {},
   "outputs": [],
   "source": []
  },
  {
   "cell_type": "code",
   "execution_count": null,
   "metadata": {},
   "outputs": [],
   "source": []
  }
 ],
 "metadata": {
  "kernelspec": {
   "display_name": "Python 3",
   "language": "python",
   "name": "python3"
  },
  "language_info": {
   "codemirror_mode": {
    "name": "ipython",
    "version": 3
   },
   "file_extension": ".py",
   "mimetype": "text/x-python",
   "name": "python",
   "nbconvert_exporter": "python",
   "pygments_lexer": "ipython3",
   "version": "3.6.4"
  }
 },
 "nbformat": 4,
 "nbformat_minor": 2
}
